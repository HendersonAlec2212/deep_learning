{
 "cells": [
  {
   "cell_type": "markdown",
   "metadata": {},
   "source": [
    "## Preprocessing"
   ]
  },
  {
   "cell_type": "code",
   "execution_count": 1,
   "metadata": {
    "scrolled": true
   },
   "outputs": [
    {
     "data": {
      "text/html": [
       "<div>\n",
       "<style scoped>\n",
       "    .dataframe tbody tr th:only-of-type {\n",
       "        vertical-align: middle;\n",
       "    }\n",
       "\n",
       "    .dataframe tbody tr th {\n",
       "        vertical-align: top;\n",
       "    }\n",
       "\n",
       "    .dataframe thead th {\n",
       "        text-align: right;\n",
       "    }\n",
       "</style>\n",
       "<table border=\"1\" class=\"dataframe\">\n",
       "  <thead>\n",
       "    <tr style=\"text-align: right;\">\n",
       "      <th></th>\n",
       "      <th>EIN</th>\n",
       "      <th>NAME</th>\n",
       "      <th>APPLICATION_TYPE</th>\n",
       "      <th>AFFILIATION</th>\n",
       "      <th>CLASSIFICATION</th>\n",
       "      <th>USE_CASE</th>\n",
       "      <th>ORGANIZATION</th>\n",
       "      <th>STATUS</th>\n",
       "      <th>INCOME_AMT</th>\n",
       "      <th>SPECIAL_CONSIDERATIONS</th>\n",
       "      <th>ASK_AMT</th>\n",
       "      <th>IS_SUCCESSFUL</th>\n",
       "    </tr>\n",
       "  </thead>\n",
       "  <tbody>\n",
       "    <tr>\n",
       "      <th>0</th>\n",
       "      <td>10520599</td>\n",
       "      <td>BLUE KNIGHTS MOTORCYCLE CLUB</td>\n",
       "      <td>T10</td>\n",
       "      <td>Independent</td>\n",
       "      <td>C1000</td>\n",
       "      <td>ProductDev</td>\n",
       "      <td>Association</td>\n",
       "      <td>1</td>\n",
       "      <td>0</td>\n",
       "      <td>N</td>\n",
       "      <td>5000</td>\n",
       "      <td>1</td>\n",
       "    </tr>\n",
       "    <tr>\n",
       "      <th>1</th>\n",
       "      <td>10531628</td>\n",
       "      <td>AMERICAN CHESAPEAKE CLUB CHARITABLE TR</td>\n",
       "      <td>T3</td>\n",
       "      <td>Independent</td>\n",
       "      <td>C2000</td>\n",
       "      <td>Preservation</td>\n",
       "      <td>Co-operative</td>\n",
       "      <td>1</td>\n",
       "      <td>1-9999</td>\n",
       "      <td>N</td>\n",
       "      <td>108590</td>\n",
       "      <td>1</td>\n",
       "    </tr>\n",
       "    <tr>\n",
       "      <th>2</th>\n",
       "      <td>10547893</td>\n",
       "      <td>ST CLOUD PROFESSIONAL FIREFIGHTERS</td>\n",
       "      <td>T5</td>\n",
       "      <td>CompanySponsored</td>\n",
       "      <td>C3000</td>\n",
       "      <td>ProductDev</td>\n",
       "      <td>Association</td>\n",
       "      <td>1</td>\n",
       "      <td>0</td>\n",
       "      <td>N</td>\n",
       "      <td>5000</td>\n",
       "      <td>0</td>\n",
       "    </tr>\n",
       "    <tr>\n",
       "      <th>3</th>\n",
       "      <td>10553066</td>\n",
       "      <td>SOUTHSIDE ATHLETIC ASSOCIATION</td>\n",
       "      <td>T3</td>\n",
       "      <td>CompanySponsored</td>\n",
       "      <td>C2000</td>\n",
       "      <td>Preservation</td>\n",
       "      <td>Trust</td>\n",
       "      <td>1</td>\n",
       "      <td>10000-24999</td>\n",
       "      <td>N</td>\n",
       "      <td>6692</td>\n",
       "      <td>1</td>\n",
       "    </tr>\n",
       "    <tr>\n",
       "      <th>4</th>\n",
       "      <td>10556103</td>\n",
       "      <td>GENETIC RESEARCH INSTITUTE OF THE DESERT</td>\n",
       "      <td>T3</td>\n",
       "      <td>Independent</td>\n",
       "      <td>C1000</td>\n",
       "      <td>Heathcare</td>\n",
       "      <td>Trust</td>\n",
       "      <td>1</td>\n",
       "      <td>100000-499999</td>\n",
       "      <td>N</td>\n",
       "      <td>142590</td>\n",
       "      <td>1</td>\n",
       "    </tr>\n",
       "  </tbody>\n",
       "</table>\n",
       "</div>"
      ],
      "text/plain": [
       "        EIN                                      NAME APPLICATION_TYPE  \\\n",
       "0  10520599              BLUE KNIGHTS MOTORCYCLE CLUB              T10   \n",
       "1  10531628    AMERICAN CHESAPEAKE CLUB CHARITABLE TR               T3   \n",
       "2  10547893        ST CLOUD PROFESSIONAL FIREFIGHTERS               T5   \n",
       "3  10553066            SOUTHSIDE ATHLETIC ASSOCIATION               T3   \n",
       "4  10556103  GENETIC RESEARCH INSTITUTE OF THE DESERT               T3   \n",
       "\n",
       "        AFFILIATION CLASSIFICATION      USE_CASE  ORGANIZATION  STATUS  \\\n",
       "0       Independent          C1000    ProductDev   Association       1   \n",
       "1       Independent          C2000  Preservation  Co-operative       1   \n",
       "2  CompanySponsored          C3000    ProductDev   Association       1   \n",
       "3  CompanySponsored          C2000  Preservation         Trust       1   \n",
       "4       Independent          C1000     Heathcare         Trust       1   \n",
       "\n",
       "      INCOME_AMT SPECIAL_CONSIDERATIONS  ASK_AMT  IS_SUCCESSFUL  \n",
       "0              0                      N     5000              1  \n",
       "1         1-9999                      N   108590              1  \n",
       "2              0                      N     5000              0  \n",
       "3    10000-24999                      N     6692              1  \n",
       "4  100000-499999                      N   142590              1  "
      ]
     },
     "execution_count": 1,
     "metadata": {},
     "output_type": "execute_result"
    }
   ],
   "source": [
    "# Import our dependencies\n",
    "from sklearn.model_selection import train_test_split\n",
    "from sklearn.preprocessing import StandardScaler\n",
    "import pandas as pd\n",
    "import tensorflow as tf\n",
    "\n",
    "#  Import and read the charity_data.csv.\n",
    "import pandas as pd \n",
    "df = pd.read_csv(\"charity_data.csv\")\n",
    "df.head()"
   ]
  },
  {
   "cell_type": "code",
   "execution_count": 2,
   "metadata": {},
   "outputs": [],
   "source": [
    "# Drop the non-beneficial ID columns, 'EIN' and 'NAME'.\n",
    "df = df.drop(columns=['EIN','NAME'])"
   ]
  },
  {
   "cell_type": "code",
   "execution_count": 3,
   "metadata": {},
   "outputs": [
    {
     "data": {
      "text/plain": [
       "APPLICATION_TYPE            17\n",
       "AFFILIATION                  6\n",
       "CLASSIFICATION              71\n",
       "USE_CASE                     5\n",
       "ORGANIZATION                 4\n",
       "STATUS                       2\n",
       "INCOME_AMT                   9\n",
       "SPECIAL_CONSIDERATIONS       2\n",
       "ASK_AMT                   8747\n",
       "IS_SUCCESSFUL                2\n",
       "dtype: int64"
      ]
     },
     "execution_count": 3,
     "metadata": {},
     "output_type": "execute_result"
    }
   ],
   "source": [
    "# Determine the number of unique values in each column.\n",
    "df.nunique()"
   ]
  },
  {
   "cell_type": "code",
   "execution_count": 4,
   "metadata": {},
   "outputs": [
    {
     "data": {
      "text/plain": [
       "T3     27037\n",
       "T4      1542\n",
       "T6      1216\n",
       "T5      1173\n",
       "T19     1065\n",
       "T8       737\n",
       "T7       725\n",
       "T10      528\n",
       "T9       156\n",
       "T13       66\n",
       "T12       27\n",
       "T2        16\n",
       "T25        3\n",
       "T14        3\n",
       "T15        2\n",
       "T29        2\n",
       "T17        1\n",
       "Name: APPLICATION_TYPE, dtype: int64"
      ]
     },
     "execution_count": 4,
     "metadata": {},
     "output_type": "execute_result"
    }
   ],
   "source": [
    "# Look at APPLICATION_TYPE value counts for binning\n",
    "app_counts = df['APPLICATION_TYPE'].value_counts()\n",
    "app_counts"
   ]
  },
  {
   "cell_type": "code",
   "execution_count": 5,
   "metadata": {},
   "outputs": [],
   "source": [
    "app_bin_list = app_counts[app_counts> 500]"
   ]
  },
  {
   "cell_type": "code",
   "execution_count": 6,
   "metadata": {},
   "outputs": [
    {
     "data": {
      "text/plain": [
       "T3     27037\n",
       "T4      1542\n",
       "T6      1216\n",
       "T5      1173\n",
       "T19     1065\n",
       "T8       737\n",
       "T7       725\n",
       "T10      528\n",
       "T9       156\n",
       "T13       66\n",
       "T12       27\n",
       "T2        16\n",
       "T25        3\n",
       "T14        3\n",
       "T15        2\n",
       "T29        2\n",
       "T17        1\n",
       "Name: APPLICATION_TYPE, dtype: int64"
      ]
     },
     "execution_count": 6,
     "metadata": {},
     "output_type": "execute_result"
    }
   ],
   "source": [
    "# Choose a cutoff value and create a list of application types to be replaced\n",
    "application_types_to_replace = app_bin_list\n",
    "\n",
    "# Replace in dataframe\n",
    "for app in application_types_to_replace:\n",
    "    df['APPLICATION_TYPE'] = df['APPLICATION_TYPE'].replace(app,\"other\")\n",
    "\n",
    "# Check to make sure binning was successful\n",
    "df['APPLICATION_TYPE'].value_counts()"
   ]
  },
  {
   "cell_type": "code",
   "execution_count": 7,
   "metadata": {},
   "outputs": [
    {
     "data": {
      "text/plain": [
       "C1000    17326\n",
       "C2000     6074\n",
       "C1200     4837\n",
       "C3000     1918\n",
       "C2100     1883\n",
       "         ...  \n",
       "C2600        1\n",
       "C2190        1\n",
       "C3700        1\n",
       "C1370        1\n",
       "C1732        1\n",
       "Name: CLASSIFICATION, Length: 71, dtype: int64"
      ]
     },
     "execution_count": 7,
     "metadata": {},
     "output_type": "execute_result"
    }
   ],
   "source": [
    "# Look at CLASSIFICATION value counts for binning\n",
    "classification_counts = df['CLASSIFICATION'].value_counts()\n",
    "classification_counts"
   ]
  },
  {
   "cell_type": "code",
   "execution_count": 8,
   "metadata": {},
   "outputs": [
    {
     "data": {
      "text/plain": [
       "C1000    17326\n",
       "C2000     6074\n",
       "C1200     4837\n",
       "C3000     1918\n",
       "C2100     1883\n",
       "C7000      777\n",
       "C1700      287\n",
       "C4000      194\n",
       "C5000      116\n",
       "C1270      114\n",
       "C2700      104\n",
       "C2800       95\n",
       "C7100       75\n",
       "C1300       58\n",
       "C1280       50\n",
       "C1230       36\n",
       "C1400       34\n",
       "C7200       32\n",
       "C2300       32\n",
       "C1240       30\n",
       "C8000       20\n",
       "C7120       18\n",
       "C1500       16\n",
       "C6000       15\n",
       "C1800       15\n",
       "C1250       14\n",
       "C8200       11\n",
       "C1238       10\n",
       "C1278       10\n",
       "C1237        9\n",
       "C1235        9\n",
       "C7210        7\n",
       "C2400        6\n",
       "C1720        6\n",
       "C4100        6\n",
       "C1600        5\n",
       "C1257        5\n",
       "C0           3\n",
       "C2710        3\n",
       "C1260        3\n",
       "C3200        2\n",
       "C1246        2\n",
       "C1234        2\n",
       "C1256        2\n",
       "C1267        2\n",
       "Name: CLASSIFICATION, dtype: int64"
      ]
     },
     "execution_count": 8,
     "metadata": {},
     "output_type": "execute_result"
    }
   ],
   "source": [
    "classification_counts[classification_counts > 1]"
   ]
  },
  {
   "cell_type": "code",
   "execution_count": 9,
   "metadata": {},
   "outputs": [],
   "source": [
    "counts_to_bin = list(classification_counts[classification_counts < 1000].index)"
   ]
  },
  {
   "cell_type": "code",
   "execution_count": 10,
   "metadata": {},
   "outputs": [
    {
     "data": {
      "text/plain": [
       "C1000    17326\n",
       "C2000     6074\n",
       "C1200     4837\n",
       "Other     2261\n",
       "C3000     1918\n",
       "C2100     1883\n",
       "Name: CLASSIFICATION, dtype: int64"
      ]
     },
     "execution_count": 10,
     "metadata": {},
     "output_type": "execute_result"
    }
   ],
   "source": [
    "# Choose a cutoff value and create a list of classifications to be replaced\n",
    "classifications_to_replace = list(classification_counts[classification_counts < 1000].index)\n",
    "\n",
    "# Replace in dataframe\n",
    "for cls in classifications_to_replace:\n",
    "    df['CLASSIFICATION'] = df['CLASSIFICATION'].replace(cls,\"Other\")\n",
    "    \n",
    "# Check to make sure binning was successful\n",
    "df['CLASSIFICATION'].value_counts()"
   ]
  },
  {
   "cell_type": "code",
   "execution_count": 11,
   "metadata": {},
   "outputs": [],
   "source": [
    "# Convert categorical data to numeric with `pd.get_dummies`\n",
    "dummies_df = pd.get_dummies(df)"
   ]
  },
  {
   "cell_type": "code",
   "execution_count": 12,
   "metadata": {},
   "outputs": [],
   "source": [
    "# Split our preprocessed data into our features and target arrays\n",
    "# we only need the values for tensors\n",
    "\n",
    "X = dummies_df.drop(columns=['IS_SUCCESSFUL']).values\n",
    "y = dummies_df['IS_SUCCESSFUL'].values\n",
    "\n",
    "# Split the preprocessed data into a training and testing dataset\n",
    "X_train, X_test, y_train, y_test = train_test_split(X,y ,random_state = 42)"
   ]
  },
  {
   "cell_type": "code",
   "execution_count": 13,
   "metadata": {},
   "outputs": [],
   "source": [
    "# Create a StandardScaler instances\n",
    "scaler = StandardScaler()\n",
    "\n",
    "# Fit the StandardScaler\n",
    "X_scaler = scaler.fit(X_train)\n",
    "\n",
    "# Scale the data\n",
    "X_train_scaled = X_scaler.transform(X_train)\n",
    "X_test_scaled = X_scaler.transform(X_test)"
   ]
  },
  {
   "cell_type": "markdown",
   "metadata": {},
   "source": [
    "## Compile, Train and Evaluate the Model"
   ]
  },
  {
   "cell_type": "code",
   "execution_count": 14,
   "metadata": {},
   "outputs": [
    {
     "name": "stdout",
     "output_type": "stream",
     "text": [
      "Model: \"sequential\"\n",
      "_________________________________________________________________\n",
      " Layer (type)                Output Shape              Param #   \n",
      "=================================================================\n",
      " dense (Dense)               (None, 80)                4160      \n",
      "                                                                 \n",
      " dense_1 (Dense)             (None, 30)                2430      \n",
      "                                                                 \n",
      " dense_2 (Dense)             (None, 1)                 31        \n",
      "                                                                 \n",
      "=================================================================\n",
      "Total params: 6,621\n",
      "Trainable params: 6,621\n",
      "Non-trainable params: 0\n",
      "_________________________________________________________________\n"
     ]
    }
   ],
   "source": [
    "# Define the model - deep neural net, i.e., the number of input features and hidden nodes for each layer.\n",
    "\n",
    "nn_model = tf.keras.models.Sequential()\n",
    "\n",
    "# First hidden layer\n",
    "nn_model.add(tf.keras.layers.Dense(units=80, activation=\"relu\", input_dim=len(X_train[0]))) #len(X_train[0]) == features in DF\n",
    "\n",
    "# Second hidden layer\n",
    "nn_model.add(tf.keras.layers.Dense(units=30, activation=\"relu\"))\n",
    "\n",
    "# Output layer\n",
    "nn_model.add(tf.keras.layers.Dense(units=1, activation=\"sigmoid\"))\n",
    "\n",
    "# Check the structure of the model\n",
    "nn_model.summary()"
   ]
  },
  {
   "cell_type": "code",
   "execution_count": 15,
   "metadata": {},
   "outputs": [],
   "source": [
    "# Compile the model\n",
    "nn_model.compile(loss=\"binary_crossentropy\", optimizer=\"adam\",metrics=[\"accuracy\"])"
   ]
  },
  {
   "cell_type": "code",
   "execution_count": 16,
   "metadata": {
    "scrolled": true
   },
   "outputs": [
    {
     "name": "stdout",
     "output_type": "stream",
     "text": [
      "Epoch 1/150\n",
      "804/804 [==============================] - 1s 707us/step - loss: 0.5716 - accuracy: 0.7196\n",
      "Epoch 2/150\n",
      "804/804 [==============================] - 1s 687us/step - loss: 0.5569 - accuracy: 0.7273\n",
      "Epoch 3/150\n",
      "804/804 [==============================] - 1s 680us/step - loss: 0.5535 - accuracy: 0.7286\n",
      "Epoch 4/150\n",
      "804/804 [==============================] - 1s 695us/step - loss: 0.5513 - accuracy: 0.7308\n",
      "Epoch 5/150\n",
      "804/804 [==============================] - 1s 657us/step - loss: 0.5494 - accuracy: 0.7315\n",
      "Epoch 6/150\n",
      "804/804 [==============================] - 1s 664us/step - loss: 0.5492 - accuracy: 0.7314\n",
      "Epoch 7/150\n",
      "804/804 [==============================] - 1s 661us/step - loss: 0.5477 - accuracy: 0.7327\n",
      "Epoch 8/150\n",
      "804/804 [==============================] - 1s 663us/step - loss: 0.5466 - accuracy: 0.7316\n",
      "Epoch 9/150\n",
      "804/804 [==============================] - 1s 671us/step - loss: 0.5465 - accuracy: 0.7325\n",
      "Epoch 10/150\n",
      "804/804 [==============================] - 1s 698us/step - loss: 0.5456 - accuracy: 0.7342\n",
      "Epoch 11/150\n",
      "804/804 [==============================] - 1s 706us/step - loss: 0.5456 - accuracy: 0.7341\n",
      "Epoch 12/150\n",
      "804/804 [==============================] - 1s 707us/step - loss: 0.5442 - accuracy: 0.7338\n",
      "Epoch 13/150\n",
      "804/804 [==============================] - 1s 688us/step - loss: 0.5447 - accuracy: 0.7345\n",
      "Epoch 14/150\n",
      "804/804 [==============================] - 1s 685us/step - loss: 0.5436 - accuracy: 0.7343\n",
      "Epoch 15/150\n",
      "804/804 [==============================] - 1s 678us/step - loss: 0.5435 - accuracy: 0.7342\n",
      "Epoch 16/150\n",
      "804/804 [==============================] - 1s 685us/step - loss: 0.5429 - accuracy: 0.7352\n",
      "Epoch 17/150\n",
      "804/804 [==============================] - 1s 662us/step - loss: 0.5436 - accuracy: 0.7341\n",
      "Epoch 18/150\n",
      "804/804 [==============================] - 1s 658us/step - loss: 0.5427 - accuracy: 0.7341\n",
      "Epoch 19/150\n",
      "804/804 [==============================] - 1s 664us/step - loss: 0.5425 - accuracy: 0.7360\n",
      "Epoch 20/150\n",
      "804/804 [==============================] - 1s 673us/step - loss: 0.5418 - accuracy: 0.7354\n",
      "Epoch 21/150\n",
      "804/804 [==============================] - 1s 658us/step - loss: 0.5417 - accuracy: 0.7356\n",
      "Epoch 22/150\n",
      "804/804 [==============================] - 1s 668us/step - loss: 0.5417 - accuracy: 0.7367\n",
      "Epoch 23/150\n",
      "804/804 [==============================] - 1s 664us/step - loss: 0.5415 - accuracy: 0.7365\n",
      "Epoch 24/150\n",
      "804/804 [==============================] - 1s 670us/step - loss: 0.5406 - accuracy: 0.7357\n",
      "Epoch 25/150\n",
      "804/804 [==============================] - 1s 673us/step - loss: 0.5410 - accuracy: 0.7366\n",
      "Epoch 26/150\n",
      "804/804 [==============================] - 1s 672us/step - loss: 0.5409 - accuracy: 0.7352\n",
      "Epoch 27/150\n",
      "804/804 [==============================] - 1s 659us/step - loss: 0.5408 - accuracy: 0.7369\n",
      "Epoch 28/150\n",
      "804/804 [==============================] - 1s 682us/step - loss: 0.5405 - accuracy: 0.7357\n",
      "Epoch 29/150\n",
      "804/804 [==============================] - 1s 658us/step - loss: 0.5404 - accuracy: 0.7361\n",
      "Epoch 30/150\n",
      "804/804 [==============================] - 1s 671us/step - loss: 0.5402 - accuracy: 0.7370\n",
      "Epoch 31/150\n",
      "804/804 [==============================] - 1s 660us/step - loss: 0.5397 - accuracy: 0.7370\n",
      "Epoch 32/150\n",
      "804/804 [==============================] - 1s 666us/step - loss: 0.5396 - accuracy: 0.7380\n",
      "Epoch 33/150\n",
      "804/804 [==============================] - 1s 663us/step - loss: 0.5396 - accuracy: 0.7371\n",
      "Epoch 34/150\n",
      "804/804 [==============================] - 1s 663us/step - loss: 0.5393 - accuracy: 0.7373\n",
      "Epoch 35/150\n",
      "804/804 [==============================] - 1s 693us/step - loss: 0.5389 - accuracy: 0.7379\n",
      "Epoch 36/150\n",
      "804/804 [==============================] - 1s 657us/step - loss: 0.5389 - accuracy: 0.7368\n",
      "Epoch 37/150\n",
      "804/804 [==============================] - 1s 667us/step - loss: 0.5385 - accuracy: 0.7381\n",
      "Epoch 38/150\n",
      "804/804 [==============================] - 1s 674us/step - loss: 0.5390 - accuracy: 0.7373\n",
      "Epoch 39/150\n",
      "804/804 [==============================] - 1s 659us/step - loss: 0.5386 - accuracy: 0.7378\n",
      "Epoch 40/150\n",
      "804/804 [==============================] - 1s 671us/step - loss: 0.5391 - accuracy: 0.7374\n",
      "Epoch 41/150\n",
      "804/804 [==============================] - 1s 671us/step - loss: 0.5386 - accuracy: 0.7389\n",
      "Epoch 42/150\n",
      "804/804 [==============================] - 1s 670us/step - loss: 0.5380 - accuracy: 0.7381\n",
      "Epoch 43/150\n",
      "804/804 [==============================] - 1s 668us/step - loss: 0.5378 - accuracy: 0.7371\n",
      "Epoch 44/150\n",
      "804/804 [==============================] - 1s 670us/step - loss: 0.5380 - accuracy: 0.7380\n",
      "Epoch 45/150\n",
      "804/804 [==============================] - 1s 673us/step - loss: 0.5382 - accuracy: 0.7383\n",
      "Epoch 46/150\n",
      "804/804 [==============================] - 1s 680us/step - loss: 0.5379 - accuracy: 0.7383\n",
      "Epoch 47/150\n",
      "804/804 [==============================] - 1s 671us/step - loss: 0.5374 - accuracy: 0.7390\n",
      "Epoch 48/150\n",
      "804/804 [==============================] - 1s 666us/step - loss: 0.5376 - accuracy: 0.7380\n",
      "Epoch 49/150\n",
      "804/804 [==============================] - 1s 652us/step - loss: 0.5375 - accuracy: 0.7386\n",
      "Epoch 50/150\n",
      "804/804 [==============================] - 1s 687us/step - loss: 0.5371 - accuracy: 0.7384\n",
      "Epoch 51/150\n",
      "804/804 [==============================] - 1s 667us/step - loss: 0.5369 - accuracy: 0.7390\n",
      "Epoch 52/150\n",
      "804/804 [==============================] - 1s 673us/step - loss: 0.5370 - accuracy: 0.7397\n",
      "Epoch 53/150\n",
      "804/804 [==============================] - 1s 671us/step - loss: 0.5370 - accuracy: 0.7394\n",
      "Epoch 54/150\n",
      "804/804 [==============================] - 1s 661us/step - loss: 0.5369 - accuracy: 0.7395\n",
      "Epoch 55/150\n",
      "804/804 [==============================] - 1s 694us/step - loss: 0.5372 - accuracy: 0.7385\n",
      "Epoch 56/150\n",
      "804/804 [==============================] - 1s 662us/step - loss: 0.5365 - accuracy: 0.7396\n",
      "Epoch 57/150\n",
      "804/804 [==============================] - 1s 662us/step - loss: 0.5363 - accuracy: 0.7397\n",
      "Epoch 58/150\n",
      "804/804 [==============================] - 1s 662us/step - loss: 0.5363 - accuracy: 0.7389\n",
      "Epoch 59/150\n",
      "804/804 [==============================] - 1s 673us/step - loss: 0.5368 - accuracy: 0.7400\n",
      "Epoch 60/150\n",
      "804/804 [==============================] - 1s 666us/step - loss: 0.5364 - accuracy: 0.7396\n",
      "Epoch 61/150\n",
      "804/804 [==============================] - 1s 671us/step - loss: 0.5362 - accuracy: 0.7400\n",
      "Epoch 62/150\n",
      "804/804 [==============================] - 1s 670us/step - loss: 0.5359 - accuracy: 0.7397\n",
      "Epoch 63/150\n",
      "804/804 [==============================] - 1s 661us/step - loss: 0.5361 - accuracy: 0.7393\n",
      "Epoch 64/150\n",
      "804/804 [==============================] - 1s 670us/step - loss: 0.5359 - accuracy: 0.7394\n",
      "Epoch 65/150\n",
      "804/804 [==============================] - 1s 688us/step - loss: 0.5368 - accuracy: 0.7395\n",
      "Epoch 66/150\n",
      "804/804 [==============================] - 1s 675us/step - loss: 0.5359 - accuracy: 0.7398\n",
      "Epoch 67/150\n",
      "804/804 [==============================] - 1s 674us/step - loss: 0.5357 - accuracy: 0.7393\n",
      "Epoch 68/150\n",
      "804/804 [==============================] - 1s 665us/step - loss: 0.5356 - accuracy: 0.7396\n",
      "Epoch 69/150\n",
      "804/804 [==============================] - 1s 680us/step - loss: 0.5357 - accuracy: 0.7390\n",
      "Epoch 70/150\n",
      "804/804 [==============================] - 1s 664us/step - loss: 0.5358 - accuracy: 0.7397\n",
      "Epoch 71/150\n",
      "804/804 [==============================] - 1s 666us/step - loss: 0.5358 - accuracy: 0.7400\n",
      "Epoch 72/150\n",
      "804/804 [==============================] - 1s 686us/step - loss: 0.5352 - accuracy: 0.7404\n",
      "Epoch 73/150\n",
      "804/804 [==============================] - 1s 662us/step - loss: 0.5354 - accuracy: 0.7394\n",
      "Epoch 74/150\n",
      "804/804 [==============================] - 1s 664us/step - loss: 0.5357 - accuracy: 0.7404\n",
      "Epoch 75/150\n",
      "804/804 [==============================] - 1s 674us/step - loss: 0.5358 - accuracy: 0.7392\n",
      "Epoch 76/150\n",
      "804/804 [==============================] - 1s 673us/step - loss: 0.5353 - accuracy: 0.7400\n",
      "Epoch 77/150\n",
      "804/804 [==============================] - 1s 687us/step - loss: 0.5349 - accuracy: 0.7402\n",
      "Epoch 78/150\n",
      "804/804 [==============================] - 1s 679us/step - loss: 0.5351 - accuracy: 0.7392\n",
      "Epoch 79/150\n"
     ]
    },
    {
     "name": "stdout",
     "output_type": "stream",
     "text": [
      "804/804 [==============================] - 1s 683us/step - loss: 0.5351 - accuracy: 0.7395\n",
      "Epoch 80/150\n",
      "804/804 [==============================] - 1s 677us/step - loss: 0.5351 - accuracy: 0.7395\n",
      "Epoch 81/150\n",
      "804/804 [==============================] - 1s 683us/step - loss: 0.5351 - accuracy: 0.7397\n",
      "Epoch 82/150\n",
      "804/804 [==============================] - 1s 669us/step - loss: 0.5348 - accuracy: 0.7402\n",
      "Epoch 83/150\n",
      "804/804 [==============================] - 1s 669us/step - loss: 0.5347 - accuracy: 0.7398\n",
      "Epoch 84/150\n",
      "804/804 [==============================] - 1s 670us/step - loss: 0.5349 - accuracy: 0.7403\n",
      "Epoch 85/150\n",
      "804/804 [==============================] - 1s 679us/step - loss: 0.5351 - accuracy: 0.7389\n",
      "Epoch 86/150\n",
      "804/804 [==============================] - 1s 678us/step - loss: 0.5350 - accuracy: 0.7399\n",
      "Epoch 87/150\n",
      "804/804 [==============================] - 1s 676us/step - loss: 0.5344 - accuracy: 0.7395\n",
      "Epoch 88/150\n",
      "804/804 [==============================] - 1s 672us/step - loss: 0.5346 - accuracy: 0.7400\n",
      "Epoch 89/150\n",
      "804/804 [==============================] - 1s 671us/step - loss: 0.5347 - accuracy: 0.7394\n",
      "Epoch 90/150\n",
      "804/804 [==============================] - 1s 670us/step - loss: 0.5346 - accuracy: 0.7399\n",
      "Epoch 91/150\n",
      "804/804 [==============================] - 1s 657us/step - loss: 0.5346 - accuracy: 0.7403\n",
      "Epoch 92/150\n",
      "804/804 [==============================] - 1s 673us/step - loss: 0.5344 - accuracy: 0.7394\n",
      "Epoch 93/150\n",
      "804/804 [==============================] - 1s 673us/step - loss: 0.5344 - accuracy: 0.7399\n",
      "Epoch 94/150\n",
      "804/804 [==============================] - 1s 669us/step - loss: 0.5344 - accuracy: 0.7402\n",
      "Epoch 95/150\n",
      "804/804 [==============================] - 1s 677us/step - loss: 0.5342 - accuracy: 0.7404\n",
      "Epoch 96/150\n",
      "804/804 [==============================] - 1s 665us/step - loss: 0.5343 - accuracy: 0.7406\n",
      "Epoch 97/150\n",
      "804/804 [==============================] - 1s 674us/step - loss: 0.5341 - accuracy: 0.7402\n",
      "Epoch 98/150\n",
      "804/804 [==============================] - 1s 684us/step - loss: 0.5340 - accuracy: 0.7402\n",
      "Epoch 99/150\n",
      "804/804 [==============================] - 1s 673us/step - loss: 0.5341 - accuracy: 0.7402\n",
      "Epoch 100/150\n",
      "804/804 [==============================] - 1s 669us/step - loss: 0.5348 - accuracy: 0.7403\n",
      "Epoch 101/150\n",
      "804/804 [==============================] - 1s 696us/step - loss: 0.5341 - accuracy: 0.7400\n",
      "Epoch 102/150\n",
      "804/804 [==============================] - 1s 682us/step - loss: 0.5343 - accuracy: 0.7399\n",
      "Epoch 103/150\n",
      "804/804 [==============================] - 1s 667us/step - loss: 0.5339 - accuracy: 0.7404\n",
      "Epoch 104/150\n",
      "804/804 [==============================] - 1s 690us/step - loss: 0.5336 - accuracy: 0.7412\n",
      "Epoch 105/150\n",
      "804/804 [==============================] - 1s 665us/step - loss: 0.5340 - accuracy: 0.7406\n",
      "Epoch 106/150\n",
      "804/804 [==============================] - 1s 670us/step - loss: 0.5339 - accuracy: 0.7404\n",
      "Epoch 107/150\n",
      "804/804 [==============================] - 1s 664us/step - loss: 0.5337 - accuracy: 0.7398\n",
      "Epoch 108/150\n",
      "804/804 [==============================] - 1s 666us/step - loss: 0.5339 - accuracy: 0.7403\n",
      "Epoch 109/150\n",
      "804/804 [==============================] - 1s 705us/step - loss: 0.5339 - accuracy: 0.7405\n",
      "Epoch 110/150\n",
      "804/804 [==============================] - 1s 678us/step - loss: 0.5336 - accuracy: 0.7407\n",
      "Epoch 111/150\n",
      "804/804 [==============================] - 1s 674us/step - loss: 0.5342 - accuracy: 0.7405\n",
      "Epoch 112/150\n",
      "804/804 [==============================] - 1s 668us/step - loss: 0.5341 - accuracy: 0.7403\n",
      "Epoch 113/150\n",
      "804/804 [==============================] - 1s 680us/step - loss: 0.5338 - accuracy: 0.7406\n",
      "Epoch 114/150\n",
      "804/804 [==============================] - 1s 671us/step - loss: 0.5336 - accuracy: 0.7406\n",
      "Epoch 115/150\n",
      "804/804 [==============================] - 1s 681us/step - loss: 0.5336 - accuracy: 0.7407\n",
      "Epoch 116/150\n",
      "804/804 [==============================] - 1s 672us/step - loss: 0.5335 - accuracy: 0.7404\n",
      "Epoch 117/150\n",
      "804/804 [==============================] - 1s 667us/step - loss: 0.5333 - accuracy: 0.7404\n",
      "Epoch 118/150\n",
      "804/804 [==============================] - 1s 668us/step - loss: 0.5332 - accuracy: 0.7408\n",
      "Epoch 119/150\n",
      "804/804 [==============================] - 1s 673us/step - loss: 0.5333 - accuracy: 0.7406\n",
      "Epoch 120/150\n",
      "804/804 [==============================] - 1s 671us/step - loss: 0.5333 - accuracy: 0.7402\n",
      "Epoch 121/150\n",
      "804/804 [==============================] - 1s 715us/step - loss: 0.5336 - accuracy: 0.7411\n",
      "Epoch 122/150\n",
      "804/804 [==============================] - 1s 682us/step - loss: 0.5331 - accuracy: 0.7409\n",
      "Epoch 123/150\n",
      "804/804 [==============================] - 1s 685us/step - loss: 0.5332 - accuracy: 0.7402\n",
      "Epoch 124/150\n",
      "804/804 [==============================] - 1s 676us/step - loss: 0.5336 - accuracy: 0.7406\n",
      "Epoch 125/150\n",
      "804/804 [==============================] - 1s 670us/step - loss: 0.5332 - accuracy: 0.7410\n",
      "Epoch 126/150\n",
      "804/804 [==============================] - 1s 677us/step - loss: 0.5334 - accuracy: 0.7404\n",
      "Epoch 127/150\n",
      "804/804 [==============================] - 1s 677us/step - loss: 0.5329 - accuracy: 0.7413\n",
      "Epoch 128/150\n",
      "804/804 [==============================] - 1s 692us/step - loss: 0.5329 - accuracy: 0.7412\n",
      "Epoch 129/150\n",
      "804/804 [==============================] - 1s 674us/step - loss: 0.5329 - accuracy: 0.7409\n",
      "Epoch 130/150\n",
      "804/804 [==============================] - 1s 675us/step - loss: 0.5337 - accuracy: 0.7397\n",
      "Epoch 131/150\n",
      "804/804 [==============================] - 1s 680us/step - loss: 0.5331 - accuracy: 0.7408\n",
      "Epoch 132/150\n",
      "804/804 [==============================] - 1s 688us/step - loss: 0.5329 - accuracy: 0.7406\n",
      "Epoch 133/150\n",
      "804/804 [==============================] - 1s 679us/step - loss: 0.5328 - accuracy: 0.7414\n",
      "Epoch 134/150\n",
      "804/804 [==============================] - 1s 682us/step - loss: 0.5330 - accuracy: 0.7406\n",
      "Epoch 135/150\n",
      "804/804 [==============================] - 1s 670us/step - loss: 0.5331 - accuracy: 0.7404\n",
      "Epoch 136/150\n",
      "804/804 [==============================] - 1s 678us/step - loss: 0.5328 - accuracy: 0.7414\n",
      "Epoch 137/150\n",
      "804/804 [==============================] - 1s 677us/step - loss: 0.5329 - accuracy: 0.7412\n",
      "Epoch 138/150\n",
      "804/804 [==============================] - 1s 682us/step - loss: 0.5329 - accuracy: 0.7404\n",
      "Epoch 139/150\n",
      "804/804 [==============================] - 1s 697us/step - loss: 0.5330 - accuracy: 0.7416\n",
      "Epoch 140/150\n",
      "804/804 [==============================] - 1s 670us/step - loss: 0.5336 - accuracy: 0.7405\n",
      "Epoch 141/150\n",
      "804/804 [==============================] - 1s 675us/step - loss: 0.5328 - accuracy: 0.7407\n",
      "Epoch 142/150\n",
      "804/804 [==============================] - 1s 687us/step - loss: 0.5330 - accuracy: 0.7408\n",
      "Epoch 143/150\n",
      "804/804 [==============================] - 1s 691us/step - loss: 0.5326 - accuracy: 0.7411\n",
      "Epoch 144/150\n",
      "804/804 [==============================] - 1s 685us/step - loss: 0.5327 - accuracy: 0.7409\n",
      "Epoch 145/150\n",
      "804/804 [==============================] - 1s 678us/step - loss: 0.5327 - accuracy: 0.7405\n",
      "Epoch 146/150\n",
      "804/804 [==============================] - 1s 678us/step - loss: 0.5322 - accuracy: 0.7406\n",
      "Epoch 147/150\n",
      "804/804 [==============================] - 1s 679us/step - loss: 0.5328 - accuracy: 0.7402\n",
      "Epoch 148/150\n",
      "804/804 [==============================] - 1s 675us/step - loss: 0.5325 - accuracy: 0.7406\n",
      "Epoch 149/150\n",
      "804/804 [==============================] - 1s 671us/step - loss: 0.5325 - accuracy: 0.7406\n",
      "Epoch 150/150\n",
      "804/804 [==============================] - 1s 680us/step - loss: 0.5325 - accuracy: 0.7416\n"
     ]
    }
   ],
   "source": [
    "# Train the model\n",
    "fit_model = nn_model.fit(X_train_scaled, y_train, epochs=150)"
   ]
  },
  {
   "cell_type": "code",
   "execution_count": 17,
   "metadata": {},
   "outputs": [
    {
     "name": "stdout",
     "output_type": "stream",
     "text": [
      "268/268 - 0s - loss: 0.5694 - accuracy: 0.7271 - 220ms/epoch - 822us/step\n",
      "Loss: 0.5694276094436646, Accuracy: 0.7271137237548828\n"
     ]
    }
   ],
   "source": [
    "# Evaluate the model using the test data\n",
    "model_loss, model_accuracy = nn_model.evaluate(X_test_scaled,y_test,verbose=2)\n",
    "print(f\"Loss: {model_loss}, Accuracy: {model_accuracy}\")"
   ]
  },
  {
   "cell_type": "code",
   "execution_count": 18,
   "metadata": {
    "scrolled": true
   },
   "outputs": [
    {
     "data": {
      "text/plain": [
       "{'name': 'sequential',\n",
       " 'layers': [{'class_name': 'InputLayer',\n",
       "   'config': {'batch_input_shape': (None, 51),\n",
       "    'dtype': 'float32',\n",
       "    'sparse': False,\n",
       "    'ragged': False,\n",
       "    'name': 'dense_input'}},\n",
       "  {'class_name': 'Dense',\n",
       "   'config': {'name': 'dense',\n",
       "    'trainable': True,\n",
       "    'batch_input_shape': (None, 51),\n",
       "    'dtype': 'float32',\n",
       "    'units': 80,\n",
       "    'activation': 'relu',\n",
       "    'use_bias': True,\n",
       "    'kernel_initializer': {'class_name': 'GlorotUniform',\n",
       "     'config': {'seed': None}},\n",
       "    'bias_initializer': {'class_name': 'Zeros', 'config': {}},\n",
       "    'kernel_regularizer': None,\n",
       "    'bias_regularizer': None,\n",
       "    'activity_regularizer': None,\n",
       "    'kernel_constraint': None,\n",
       "    'bias_constraint': None}},\n",
       "  {'class_name': 'Dense',\n",
       "   'config': {'name': 'dense_1',\n",
       "    'trainable': True,\n",
       "    'dtype': 'float32',\n",
       "    'units': 30,\n",
       "    'activation': 'relu',\n",
       "    'use_bias': True,\n",
       "    'kernel_initializer': {'class_name': 'GlorotUniform',\n",
       "     'config': {'seed': None}},\n",
       "    'bias_initializer': {'class_name': 'Zeros', 'config': {}},\n",
       "    'kernel_regularizer': None,\n",
       "    'bias_regularizer': None,\n",
       "    'activity_regularizer': None,\n",
       "    'kernel_constraint': None,\n",
       "    'bias_constraint': None}},\n",
       "  {'class_name': 'Dense',\n",
       "   'config': {'name': 'dense_2',\n",
       "    'trainable': True,\n",
       "    'dtype': 'float32',\n",
       "    'units': 1,\n",
       "    'activation': 'sigmoid',\n",
       "    'use_bias': True,\n",
       "    'kernel_initializer': {'class_name': 'GlorotUniform',\n",
       "     'config': {'seed': None}},\n",
       "    'bias_initializer': {'class_name': 'Zeros', 'config': {}},\n",
       "    'kernel_regularizer': None,\n",
       "    'bias_regularizer': None,\n",
       "    'activity_regularizer': None,\n",
       "    'kernel_constraint': None,\n",
       "    'bias_constraint': None}}]}"
      ]
     },
     "execution_count": 18,
     "metadata": {},
     "output_type": "execute_result"
    }
   ],
   "source": [
    "nn_model.get_config()"
   ]
  },
  {
   "cell_type": "code",
   "execution_count": 19,
   "metadata": {},
   "outputs": [
    {
     "data": {
      "text/plain": [
       "<AxesSubplot:>"
      ]
     },
     "execution_count": 19,
     "metadata": {},
     "output_type": "execute_result"
    },
    {
     "data": {
      "image/png": "[encoded data removed]",
      "text/plain": [
       "<Figure size 1440x720 with 1 Axes>"
      ]
     },
     "metadata": {
      "needs_background": "light"
     },
     "output_type": "display_data"
    }
   ],
   "source": [
    "history_df = pd.DataFrame(fit_model.history, index=range(1,len(fit_model.history['loss'])+1))\n",
    "\n",
    "history_df.plot(y='accuracy', figsize=(20,10))"
   ]
  },
  {
   "cell_type": "code",
   "execution_count": 20,
   "metadata": {},
   "outputs": [],
   "source": [
    "# Export our model to HDF5 file\n",
    "nn_model.save(f'model_01_Acc_{round(model_accuracy,3)}.h5')\n"
   ]
  },
  {
   "cell_type": "markdown",
   "metadata": {},
   "source": [
    "------"
   ]
  },
  {
   "cell_type": "markdown",
   "metadata": {},
   "source": [
    "# Expanding Hyperparameters"
   ]
  },
  {
   "cell_type": "markdown",
   "metadata": {},
   "source": [
    "After seeing the accuracy and loss of a model with many input dimensions and low layers, lets compare when allowing the models parameters to be chosen by Keras_Tuner using pre-defined values."
   ]
  },
  {
   "cell_type": "markdown",
   "metadata": {},
   "source": [
    "-------"
   ]
  },
  {
   "cell_type": "code",
   "execution_count": 21,
   "metadata": {},
   "outputs": [],
   "source": [
    "# Create a method that creates a new Sequential model with hyperparameter options\n",
    "def create_model(hp):\n",
    "    nn_model = tf.keras.models.Sequential()\n",
    "\n",
    "    # Allow kerastuner to decide which activation function to use in hidden layers\n",
    "    activation = hp.Choice('activation',['relu','tanh','sigmoid'])\n",
    "    \n",
    "    # Allow kerastuner to decide number of neurons in first layer\n",
    "    nn_model.add(tf.keras.layers.Dense(units=hp.Int('first_units',\n",
    "        min_value=1,\n",
    "        max_value=10,\n",
    "        step=2), activation=activation, input_dim=len(X_train[0]))) ## make sure the input dimensions are equal to the number of features\n",
    "\n",
    "    # Allow kerastuner to decide number of hidden layers and neurons in hidden layers\n",
    "    for i in range(hp.Int('num_layers', 1, 6)):\n",
    "        nn_model.add(tf.keras.layers.Dense(units=hp.Int('units_' + str(i),\n",
    "            min_value=1,\n",
    "            max_value=30,\n",
    "            step=2),\n",
    "            activation=activation))\n",
    "    \n",
    "    nn_model.add(tf.keras.layers.Dense(units=1, activation=\"sigmoid\"))\n",
    "\n",
    "    # Compile the model\n",
    "    nn_model.compile(loss=\"binary_crossentropy\", optimizer='adam', metrics=[\"accuracy\"])\n",
    "    \n",
    "    return nn_model"
   ]
  },
  {
   "cell_type": "code",
   "execution_count": 22,
   "metadata": {},
   "outputs": [
    {
     "name": "stdout",
     "output_type": "stream",
     "text": [
      "INFO:tensorflow:Reloading Oracle from existing project .\\untitled_project\\oracle.json\n",
      "INFO:tensorflow:Reloading Tuner from .\\untitled_project\\tuner0.json\n"
     ]
    }
   ],
   "source": [
    " # Import the kerastuner library\n",
    "import keras_tuner as kt\n",
    "\n",
    "tuner = kt.Hyperband(\n",
    "    create_model,\n",
    "    objective=\"val_accuracy\",\n",
    "    max_epochs=50,\n",
    "    hyperband_iterations=2)"
   ]
  },
  {
   "cell_type": "code",
   "execution_count": 23,
   "metadata": {},
   "outputs": [
    {
     "name": "stdout",
     "output_type": "stream",
     "text": [
      "INFO:tensorflow:Oracle triggered exit\n"
     ]
    }
   ],
   "source": [
    "tuner.search(X_train_scaled,y_train,epochs=50,validation_data=(X_test_scaled,y_test)) "
   ]
  },
  {
   "cell_type": "code",
   "execution_count": 24,
   "metadata": {},
   "outputs": [
    {
     "data": {
      "text/plain": [
       "{'activation': 'tanh',\n",
       " 'first_units': 7,\n",
       " 'num_layers': 3,\n",
       " 'units_0': 7,\n",
       " 'units_1': 7,\n",
       " 'units_2': 9,\n",
       " 'units_3': 3,\n",
       " 'units_4': 5,\n",
       " 'units_5': 9,\n",
       " 'tuner/epochs': 20,\n",
       " 'tuner/initial_epoch': 7,\n",
       " 'tuner/bracket': 1,\n",
       " 'tuner/round': 1,\n",
       " 'tuner/trial_id': '610937148361f0abd0e5627ae992a29d'}"
      ]
     },
     "execution_count": 24,
     "metadata": {},
     "output_type": "execute_result"
    }
   ],
   "source": [
    " # Get best model hyperparameters\n",
    "best_hyper = tuner.get_best_hyperparameters(1)[0]\n",
    "best_hyper.values"
   ]
  },
  {
   "cell_type": "code",
   "execution_count": 25,
   "metadata": {},
   "outputs": [
    {
     "name": "stdout",
     "output_type": "stream",
     "text": [
      "268/268 - 0s - loss: 0.5569 - accuracy: 0.7327 - 262ms/epoch - 978us/step\n",
      "\n",
      "Loss: 0.5568960309028625, Accuracy: 0.7327113747596741\n"
     ]
    }
   ],
   "source": [
    " # Evaluate best model against full test data\n",
    "best_model = tuner.get_best_models(1)[0]\n",
    "model_loss, model_accuracy = best_model.evaluate(X_test_scaled,y_test,verbose=2)\n",
    "print()\n",
    "print(f\"Loss: {model_loss}, Accuracy: {model_accuracy}\")"
   ]
  },
  {
   "cell_type": "code",
   "execution_count": 26,
   "metadata": {},
   "outputs": [
    {
     "name": "stdout",
     "output_type": "stream",
     "text": [
      "Results summary\n",
      "Results in .\\untitled_project\n",
      "Showing 10 best trials\n",
      "Objective(name='val_accuracy', direction='max')\n",
      "Trial summary\n",
      "Hyperparameters:\n",
      "activation: tanh\n",
      "first_units: 7\n",
      "num_layers: 3\n",
      "units_0: 7\n",
      "units_1: 7\n",
      "units_2: 9\n",
      "units_3: 3\n",
      "units_4: 5\n",
      "units_5: 9\n",
      "tuner/epochs: 20\n",
      "tuner/initial_epoch: 7\n",
      "tuner/bracket: 1\n",
      "tuner/round: 1\n",
      "tuner/trial_id: 610937148361f0abd0e5627ae992a29d\n",
      "Score: 0.7327113747596741\n",
      "Trial summary\n",
      "Hyperparameters:\n",
      "activation: tanh\n",
      "first_units: 5\n",
      "num_layers: 2\n",
      "units_0: 3\n",
      "units_1: 3\n",
      "units_2: 3\n",
      "units_3: 5\n",
      "units_4: 1\n",
      "units_5: 3\n",
      "tuner/epochs: 20\n",
      "tuner/initial_epoch: 0\n",
      "tuner/bracket: 0\n",
      "tuner/round: 0\n",
      "Score: 0.7321282625198364\n",
      "Trial summary\n",
      "Hyperparameters:\n",
      "activation: sigmoid\n",
      "first_units: 9\n",
      "num_layers: 1\n",
      "units_0: 3\n",
      "units_1: 9\n",
      "units_2: 9\n",
      "units_3: 9\n",
      "units_4: 5\n",
      "units_5: 9\n",
      "tuner/epochs: 7\n",
      "tuner/initial_epoch: 0\n",
      "tuner/bracket: 1\n",
      "tuner/round: 0\n",
      "Score: 0.7320116758346558\n",
      "Trial summary\n",
      "Hyperparameters:\n",
      "activation: tanh\n",
      "first_units: 9\n",
      "num_layers: 1\n",
      "units_0: 7\n",
      "units_1: 9\n",
      "units_2: 7\n",
      "units_3: 9\n",
      "units_4: 5\n",
      "units_5: 7\n",
      "tuner/epochs: 20\n",
      "tuner/initial_epoch: 7\n",
      "tuner/bracket: 1\n",
      "tuner/round: 1\n",
      "tuner/trial_id: 60f995812ad45d7dbc7895be16ab8458\n",
      "Score: 0.7309620976448059\n",
      "Trial summary\n",
      "Hyperparameters:\n",
      "activation: sigmoid\n",
      "first_units: 5\n",
      "num_layers: 4\n",
      "units_0: 3\n",
      "units_1: 3\n",
      "units_2: 5\n",
      "units_3: 9\n",
      "units_4: 9\n",
      "units_5: 1\n",
      "tuner/epochs: 7\n",
      "tuner/initial_epoch: 3\n",
      "tuner/bracket: 2\n",
      "tuner/round: 1\n",
      "tuner/trial_id: 0db323d55cd11d2ac6e852164a43fd53\n",
      "Score: 0.7306122183799744\n",
      "Trial summary\n",
      "Hyperparameters:\n",
      "activation: tanh\n",
      "first_units: 7\n",
      "num_layers: 1\n",
      "units_0: 1\n",
      "units_1: 5\n",
      "units_2: 7\n",
      "units_3: 9\n",
      "units_4: 3\n",
      "units_5: 1\n",
      "tuner/epochs: 20\n",
      "tuner/initial_epoch: 0\n",
      "tuner/bracket: 0\n",
      "tuner/round: 0\n",
      "Score: 0.7304956316947937\n",
      "Trial summary\n",
      "Hyperparameters:\n",
      "activation: sigmoid\n",
      "first_units: 7\n",
      "num_layers: 4\n",
      "units_0: 5\n",
      "units_1: 7\n",
      "units_2: 7\n",
      "units_3: 9\n",
      "units_4: 9\n",
      "units_5: 7\n",
      "tuner/epochs: 7\n",
      "tuner/initial_epoch: 0\n",
      "tuner/bracket: 1\n",
      "tuner/round: 0\n",
      "Score: 0.7303789854049683\n",
      "Trial summary\n",
      "Hyperparameters:\n",
      "activation: tanh\n",
      "first_units: 7\n",
      "num_layers: 3\n",
      "units_0: 7\n",
      "units_1: 7\n",
      "units_2: 9\n",
      "units_3: 3\n",
      "units_4: 5\n",
      "units_5: 9\n",
      "tuner/epochs: 7\n",
      "tuner/initial_epoch: 0\n",
      "tuner/bracket: 1\n",
      "tuner/round: 0\n",
      "Score: 0.7303789854049683\n",
      "Trial summary\n",
      "Hyperparameters:\n",
      "activation: relu\n",
      "first_units: 5\n",
      "num_layers: 2\n",
      "units_0: 3\n",
      "units_1: 5\n",
      "units_2: 3\n",
      "units_3: 1\n",
      "units_4: 9\n",
      "units_5: 5\n",
      "tuner/epochs: 20\n",
      "tuner/initial_epoch: 0\n",
      "tuner/bracket: 0\n",
      "tuner/round: 0\n",
      "Score: 0.7302623987197876\n",
      "Trial summary\n",
      "Hyperparameters:\n",
      "activation: tanh\n",
      "first_units: 3\n",
      "num_layers: 2\n",
      "units_0: 7\n",
      "units_1: 1\n",
      "units_2: 1\n",
      "units_3: 3\n",
      "units_4: 7\n",
      "units_5: 9\n",
      "tuner/epochs: 7\n",
      "tuner/initial_epoch: 0\n",
      "tuner/bracket: 1\n",
      "tuner/round: 0\n",
      "Score: 0.7302623987197876\n"
     ]
    }
   ],
   "source": [
    "tuner.results_summary()"
   ]
  },
  {
   "cell_type": "code",
   "execution_count": 27,
   "metadata": {},
   "outputs": [],
   "source": [
    "# Export our model to HDF5 file\n",
    "# tuner.save_model('keras_tuner_auto_model.h5')\n",
    "\n",
    "tf.keras.models.save_model(\n",
    "    best_model,\n",
    "    f'keras_model_Acc_{round(model_accuracy,3)}.h5',\n",
    "    overwrite=True,\n",
    "    include_optimizer=True,\n",
    "    save_format=None,\n",
    "    signatures=None,\n",
    "    options=None,\n",
    "    save_traces=True,\n",
    ")"
   ]
  },
  {
   "cell_type": "code",
   "execution_count": null,
   "metadata": {},
   "outputs": [],
   "source": []
  }
 ],
 "metadata": {
  "kernelspec": {
   "display_name": "Python 3",
   "language": "python",
   "name": "python3"
  },
  "language_info": {
   "codemirror_mode": {
    "name": "ipython",
    "version": 3
   },
   "file_extension": ".py",
   "mimetype": "text/x-python",
   "name": "python",
   "nbconvert_exporter": "python",
   "pygments_lexer": "ipython3",
   "version": "3.8.8"
  }
 },
 "nbformat": 4,
 "nbformat_minor": 4
}
